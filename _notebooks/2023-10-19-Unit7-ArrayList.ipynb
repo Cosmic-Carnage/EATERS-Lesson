{
 "cells": [
  {
   "cell_type": "markdown",
   "metadata": {},
   "source": [
    "---\n",
    "toc: true\n",
    "comments: true\n",
    "layout: post\n",
    "title: Unit 6 Arrays - Teacher notebook\n",
    "description:  Lesson on the College Board Unit 6 Arrays. This is the teacher notebook.\n",
    "courses: { compsci: {week: 1} }\n",
    "type: hacks\n",
    "---"
   ]
  }
 ],
 "metadata": {
  "kernelspec": {
   "display_name": "Java",
   "language": "java",
   "name": "java"
  },
  "language_info": {
   "name": "java"
  }
 },
 "nbformat": 4,
 "nbformat_minor": 2
}
