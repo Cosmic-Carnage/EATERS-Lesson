{
 "cells": [
  {
   "cell_type": "markdown",
   "metadata": {},
   "source": [
    "---\n",
    "toc: true\n",
    "comments: true\n",
    "layout: post\n",
    "title: Unit 6 Arrays - Student notebook\n",
    "description:  Lesson on the College Board Unit 6 Arrays. This is the student notebook.\n",
    "courses: { compsci: {week: 1} }\n",
    "type: hacks\n",
    "---"
   ]
  },
  {
   "cell_type": "markdown",
   "metadata": {},
   "source": [
    "- An **[     ]** is a data structure used to implement a collection (list) of primitive or object reference data.\n",
    "\n",
    "- An **[     ]** is a single value in the **[     ]**\n",
    "\n",
    "- The __**[     ]**__ of an **[     ]** is the position of the element in the **[     ]**\n",
    "\n",
    "    - In java, the **[     ]** of an array is at **[     ]**.\n",
    "\n",
    "- The **[     ]** of an **[     ]** is the number of elements in the array.\n",
    "\n",
    "    - **`[     ]`** is a `[     ]` data member of an array\n",
    "\n",
    "        - Since `[     ]` is `[     ]`, we can access it in **[     ]**!\n",
    "\n",
    "        - Since `[     ]` is `[     ]` we cannot change an array's `[     ]` after it has been created\n",
    "    - In Java, the **[     ]** of an array named `[     ]` is at **[     ]** `[     ]`"
   ]
  },
  {
   "cell_type": "code",
   "execution_count": null,
   "metadata": {},
   "outputs": [],
   "source": []
  }
 ],
 "metadata": {
  "language_info": {
   "name": "python"
  },
  "orig_nbformat": 4
 },
 "nbformat": 4,
 "nbformat_minor": 2
}
